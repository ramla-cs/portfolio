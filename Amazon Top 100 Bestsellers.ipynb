{
 "cells": [
  {
   "cell_type": "code",
   "execution_count": 225,
   "id": "dc13bde9-bed8-457a-90ba-edf154bcbff6",
   "metadata": {},
   "outputs": [],
   "source": [
    "import pandas as pd"
   ]
  },
  {
   "cell_type": "code",
   "execution_count": 226,
   "id": "e5e36ea7-4ec3-4521-a950-b4cd3bf52014",
   "metadata": {},
   "outputs": [],
   "source": [
    "df = pd.read_csv(\"AmazonData.csv\")"
   ]
  },
  {
   "cell_type": "code",
   "execution_count": 227,
   "id": "2091d564-dd21-4e1c-af78-cc5298ec2b4a",
   "metadata": {},
   "outputs": [
    {
     "data": {
      "text/html": [
       "<div>\n",
       "<style scoped>\n",
       "    .dataframe tbody tr th:only-of-type {\n",
       "        vertical-align: middle;\n",
       "    }\n",
       "\n",
       "    .dataframe tbody tr th {\n",
       "        vertical-align: top;\n",
       "    }\n",
       "\n",
       "    .dataframe thead th {\n",
       "        text-align: right;\n",
       "    }\n",
       "</style>\n",
       "<table border=\"1\" class=\"dataframe\">\n",
       "  <thead>\n",
       "    <tr style=\"text-align: right;\">\n",
       "      <th></th>\n",
       "      <th>date</th>\n",
       "      <th>number</th>\n",
       "      <th>name</th>\n",
       "      <th>rating</th>\n",
       "      <th>n_reviews</th>\n",
       "      <th>price</th>\n",
       "    </tr>\n",
       "  </thead>\n",
       "  <tbody>\n",
       "    <tr>\n",
       "      <th>0</th>\n",
       "      <td>2021-02-01</td>\n",
       "      <td>1</td>\n",
       "      <td>Fire TV Stick 4K streaming device with Alexa V...</td>\n",
       "      <td>4.7</td>\n",
       "      <td>512,797</td>\n",
       "      <td>$39.99</td>\n",
       "    </tr>\n",
       "    <tr>\n",
       "      <th>1</th>\n",
       "      <td>2021-02-01</td>\n",
       "      <td>2</td>\n",
       "      <td>Amazon Smart Plug, works with Alexa – A Certif...</td>\n",
       "      <td>4.7</td>\n",
       "      <td>328,652</td>\n",
       "      <td>$24.99</td>\n",
       "    </tr>\n",
       "    <tr>\n",
       "      <th>2</th>\n",
       "      <td>2021-02-01</td>\n",
       "      <td>3</td>\n",
       "      <td>Echo Show 5 -- Smart display with Alexa – stay...</td>\n",
       "      <td>4.6</td>\n",
       "      <td>298,030</td>\n",
       "      <td>$44.99</td>\n",
       "    </tr>\n",
       "    <tr>\n",
       "      <th>3</th>\n",
       "      <td>2021-02-01</td>\n",
       "      <td>4</td>\n",
       "      <td>All-new Echo Dot (4th Gen, 2020 release) | Sma...</td>\n",
       "      <td>4.7</td>\n",
       "      <td>138,241</td>\n",
       "      <td>$44.99</td>\n",
       "    </tr>\n",
       "    <tr>\n",
       "      <th>4</th>\n",
       "      <td>2021-02-01</td>\n",
       "      <td>5</td>\n",
       "      <td>Roku Streaming Stick+ | HD/4K/HDR Streaming De...</td>\n",
       "      <td>4.7</td>\n",
       "      <td>62,702</td>\n",
       "      <td>$39.00</td>\n",
       "    </tr>\n",
       "  </tbody>\n",
       "</table>\n",
       "</div>"
      ],
      "text/plain": [
       "         date  number                                               name  \\\n",
       "0  2021-02-01       1  Fire TV Stick 4K streaming device with Alexa V...   \n",
       "1  2021-02-01       2  Amazon Smart Plug, works with Alexa – A Certif...   \n",
       "2  2021-02-01       3  Echo Show 5 -- Smart display with Alexa – stay...   \n",
       "3  2021-02-01       4  All-new Echo Dot (4th Gen, 2020 release) | Sma...   \n",
       "4  2021-02-01       5  Roku Streaming Stick+ | HD/4K/HDR Streaming De...   \n",
       "\n",
       "  rating n_reviews   price  \n",
       "0    4.7   512,797  $39.99  \n",
       "1    4.7   328,652  $24.99  \n",
       "2    4.6   298,030  $44.99  \n",
       "3    4.7   138,241  $44.99  \n",
       "4    4.7    62,702  $39.00  "
      ]
     },
     "execution_count": 227,
     "metadata": {},
     "output_type": "execute_result"
    }
   ],
   "source": [
    "df.head()"
   ]
  },
  {
   "cell_type": "code",
   "execution_count": 228,
   "id": "1dff3941-ba4c-485d-9911-36ffb1cd83c8",
   "metadata": {},
   "outputs": [
    {
     "name": "stdout",
     "output_type": "stream",
     "text": [
      "<class 'pandas.core.frame.DataFrame'>\n",
      "RangeIndex: 18100 entries, 0 to 18099\n",
      "Data columns (total 6 columns):\n",
      " #   Column     Non-Null Count  Dtype \n",
      "---  ------     --------------  ----- \n",
      " 0   date       18100 non-null  object\n",
      " 1   number     18100 non-null  int64 \n",
      " 2   name       18100 non-null  object\n",
      " 3   rating     18100 non-null  object\n",
      " 4   n_reviews  18100 non-null  object\n",
      " 5   price      18100 non-null  object\n",
      "dtypes: int64(1), object(5)\n",
      "memory usage: 848.6+ KB\n"
     ]
    }
   ],
   "source": [
    "df.info()"
   ]
  },
  {
   "cell_type": "code",
   "execution_count": 229,
   "id": "27db84d1-4d56-46ab-bf6e-30d33bfcf7c5",
   "metadata": {},
   "outputs": [
    {
     "data": {
      "text/html": [
       "<div>\n",
       "<style scoped>\n",
       "    .dataframe tbody tr th:only-of-type {\n",
       "        vertical-align: middle;\n",
       "    }\n",
       "\n",
       "    .dataframe tbody tr th {\n",
       "        vertical-align: top;\n",
       "    }\n",
       "\n",
       "    .dataframe thead th {\n",
       "        text-align: right;\n",
       "    }\n",
       "</style>\n",
       "<table border=\"1\" class=\"dataframe\">\n",
       "  <thead>\n",
       "    <tr style=\"text-align: right;\">\n",
       "      <th></th>\n",
       "      <th>number</th>\n",
       "    </tr>\n",
       "  </thead>\n",
       "  <tbody>\n",
       "    <tr>\n",
       "      <th>count</th>\n",
       "      <td>18100.000000</td>\n",
       "    </tr>\n",
       "    <tr>\n",
       "      <th>mean</th>\n",
       "      <td>50.500000</td>\n",
       "    </tr>\n",
       "    <tr>\n",
       "      <th>std</th>\n",
       "      <td>28.866867</td>\n",
       "    </tr>\n",
       "    <tr>\n",
       "      <th>min</th>\n",
       "      <td>1.000000</td>\n",
       "    </tr>\n",
       "    <tr>\n",
       "      <th>25%</th>\n",
       "      <td>25.750000</td>\n",
       "    </tr>\n",
       "    <tr>\n",
       "      <th>50%</th>\n",
       "      <td>50.500000</td>\n",
       "    </tr>\n",
       "    <tr>\n",
       "      <th>75%</th>\n",
       "      <td>75.250000</td>\n",
       "    </tr>\n",
       "    <tr>\n",
       "      <th>max</th>\n",
       "      <td>100.000000</td>\n",
       "    </tr>\n",
       "  </tbody>\n",
       "</table>\n",
       "</div>"
      ],
      "text/plain": [
       "             number\n",
       "count  18100.000000\n",
       "mean      50.500000\n",
       "std       28.866867\n",
       "min        1.000000\n",
       "25%       25.750000\n",
       "50%       50.500000\n",
       "75%       75.250000\n",
       "max      100.000000"
      ]
     },
     "execution_count": 229,
     "metadata": {},
     "output_type": "execute_result"
    }
   ],
   "source": [
    "df.describe()"
   ]
  },
  {
   "cell_type": "code",
   "execution_count": 230,
   "id": "45f96e28-f1c8-4706-b14e-42910556f251",
   "metadata": {},
   "outputs": [
    {
     "data": {
      "text/html": [
       "<div>\n",
       "<style scoped>\n",
       "    .dataframe tbody tr th:only-of-type {\n",
       "        vertical-align: middle;\n",
       "    }\n",
       "\n",
       "    .dataframe tbody tr th {\n",
       "        vertical-align: top;\n",
       "    }\n",
       "\n",
       "    .dataframe thead th {\n",
       "        text-align: right;\n",
       "    }\n",
       "</style>\n",
       "<table border=\"1\" class=\"dataframe\">\n",
       "  <thead>\n",
       "    <tr style=\"text-align: right;\">\n",
       "      <th></th>\n",
       "      <th>date</th>\n",
       "      <th>name</th>\n",
       "      <th>rating</th>\n",
       "      <th>n_reviews</th>\n",
       "      <th>price</th>\n",
       "    </tr>\n",
       "  </thead>\n",
       "  <tbody>\n",
       "    <tr>\n",
       "      <th>count</th>\n",
       "      <td>18100</td>\n",
       "      <td>18100</td>\n",
       "      <td>18100</td>\n",
       "      <td>18100</td>\n",
       "      <td>18100</td>\n",
       "    </tr>\n",
       "    <tr>\n",
       "      <th>unique</th>\n",
       "      <td>180</td>\n",
       "      <td>710</td>\n",
       "      <td>24</td>\n",
       "      <td>13564</td>\n",
       "      <td>1630</td>\n",
       "    </tr>\n",
       "    <tr>\n",
       "      <th>top</th>\n",
       "      <td>2021-05-15</td>\n",
       "      <td>Blink Mini – Compact indoor plug-in smart secu...</td>\n",
       "      <td>4.7</td>\n",
       "      <td>No customer reviews yet</td>\n",
       "      <td>$24.99</td>\n",
       "    </tr>\n",
       "    <tr>\n",
       "      <th>freq</th>\n",
       "      <td>200</td>\n",
       "      <td>302</td>\n",
       "      <td>4915</td>\n",
       "      <td>141</td>\n",
       "      <td>464</td>\n",
       "    </tr>\n",
       "  </tbody>\n",
       "</table>\n",
       "</div>"
      ],
      "text/plain": [
       "              date                                               name rating  \\\n",
       "count        18100                                              18100  18100   \n",
       "unique         180                                                710     24   \n",
       "top     2021-05-15  Blink Mini – Compact indoor plug-in smart secu...    4.7   \n",
       "freq           200                                                302   4915   \n",
       "\n",
       "                      n_reviews   price  \n",
       "count                     18100   18100  \n",
       "unique                    13564    1630  \n",
       "top     No customer reviews yet  $24.99  \n",
       "freq                        141     464  "
      ]
     },
     "execution_count": 230,
     "metadata": {},
     "output_type": "execute_result"
    }
   ],
   "source": [
    "df.describe(include='object')"
   ]
  },
  {
   "cell_type": "code",
   "execution_count": 231,
   "id": "5fa4383e-d1c9-44aa-962f-990ca59f1230",
   "metadata": {},
   "outputs": [],
   "source": [
    "#df.sort_values(\"name\", inplace=True) "
   ]
  },
  {
   "cell_type": "code",
   "execution_count": 232,
   "id": "98580155-dcd2-4bde-9299-ac09719c8bc3",
   "metadata": {},
   "outputs": [
    {
     "data": {
      "text/html": [
       "<div>\n",
       "<style scoped>\n",
       "    .dataframe tbody tr th:only-of-type {\n",
       "        vertical-align: middle;\n",
       "    }\n",
       "\n",
       "    .dataframe tbody tr th {\n",
       "        vertical-align: top;\n",
       "    }\n",
       "\n",
       "    .dataframe thead th {\n",
       "        text-align: right;\n",
       "    }\n",
       "</style>\n",
       "<table border=\"1\" class=\"dataframe\">\n",
       "  <thead>\n",
       "    <tr style=\"text-align: right;\">\n",
       "      <th></th>\n",
       "      <th>date</th>\n",
       "      <th>number</th>\n",
       "      <th>name</th>\n",
       "      <th>rating</th>\n",
       "      <th>n_reviews</th>\n",
       "      <th>price</th>\n",
       "    </tr>\n",
       "  </thead>\n",
       "  <tbody>\n",
       "    <tr>\n",
       "      <th>0</th>\n",
       "      <td>2021-02-01</td>\n",
       "      <td>1</td>\n",
       "      <td>Fire TV Stick 4K streaming device with Alexa V...</td>\n",
       "      <td>4.7</td>\n",
       "      <td>512,797</td>\n",
       "      <td>$39.99</td>\n",
       "    </tr>\n",
       "    <tr>\n",
       "      <th>1</th>\n",
       "      <td>2021-02-01</td>\n",
       "      <td>2</td>\n",
       "      <td>Amazon Smart Plug, works with Alexa – A Certif...</td>\n",
       "      <td>4.7</td>\n",
       "      <td>328,652</td>\n",
       "      <td>$24.99</td>\n",
       "    </tr>\n",
       "    <tr>\n",
       "      <th>2</th>\n",
       "      <td>2021-02-01</td>\n",
       "      <td>3</td>\n",
       "      <td>Echo Show 5 -- Smart display with Alexa – stay...</td>\n",
       "      <td>4.6</td>\n",
       "      <td>298,030</td>\n",
       "      <td>$44.99</td>\n",
       "    </tr>\n",
       "    <tr>\n",
       "      <th>3</th>\n",
       "      <td>2021-02-01</td>\n",
       "      <td>4</td>\n",
       "      <td>All-new Echo Dot (4th Gen, 2020 release) | Sma...</td>\n",
       "      <td>4.7</td>\n",
       "      <td>138,241</td>\n",
       "      <td>$44.99</td>\n",
       "    </tr>\n",
       "    <tr>\n",
       "      <th>4</th>\n",
       "      <td>2021-02-01</td>\n",
       "      <td>5</td>\n",
       "      <td>Roku Streaming Stick+ | HD/4K/HDR Streaming De...</td>\n",
       "      <td>4.7</td>\n",
       "      <td>62,702</td>\n",
       "      <td>$39.00</td>\n",
       "    </tr>\n",
       "  </tbody>\n",
       "</table>\n",
       "</div>"
      ],
      "text/plain": [
       "         date  number                                               name  \\\n",
       "0  2021-02-01       1  Fire TV Stick 4K streaming device with Alexa V...   \n",
       "1  2021-02-01       2  Amazon Smart Plug, works with Alexa – A Certif...   \n",
       "2  2021-02-01       3  Echo Show 5 -- Smart display with Alexa – stay...   \n",
       "3  2021-02-01       4  All-new Echo Dot (4th Gen, 2020 release) | Sma...   \n",
       "4  2021-02-01       5  Roku Streaming Stick+ | HD/4K/HDR Streaming De...   \n",
       "\n",
       "  rating n_reviews   price  \n",
       "0    4.7   512,797  $39.99  \n",
       "1    4.7   328,652  $24.99  \n",
       "2    4.6   298,030  $44.99  \n",
       "3    4.7   138,241  $44.99  \n",
       "4    4.7    62,702  $39.00  "
      ]
     },
     "execution_count": 232,
     "metadata": {},
     "output_type": "execute_result"
    }
   ],
   "source": [
    "df.head()"
   ]
  },
  {
   "cell_type": "code",
   "execution_count": 233,
   "id": "3845c8a3-de4f-4da8-89b5-e55a9ad04aab",
   "metadata": {},
   "outputs": [],
   "source": [
    "#convert price column and rating column to floats and then look at average price for expensive listings and for low-price items. "
   ]
  },
  {
   "cell_type": "code",
   "execution_count": 234,
   "id": "28a19bd5-60fd-46ee-be4f-c86e9a05b158",
   "metadata": {},
   "outputs": [],
   "source": [
    "df = df.rename(columns={\"name\": \"Product_Name\"})"
   ]
  },
  {
   "cell_type": "code",
   "execution_count": 235,
   "id": "84502760-3a96-4c3c-b8e9-d7e45acd71e8",
   "metadata": {},
   "outputs": [],
   "source": [
    "df['rating'] = pd.to_numeric(df['rating'].str.replace(',', ''), errors='coerce')"
   ]
  },
  {
   "cell_type": "code",
   "execution_count": 236,
   "id": "d7afe31c-c478-483d-be3b-81cacfc7ac6d",
   "metadata": {},
   "outputs": [
    {
     "name": "stdout",
     "output_type": "stream",
     "text": [
      "<class 'pandas.core.frame.DataFrame'>\n",
      "RangeIndex: 18100 entries, 0 to 18099\n",
      "Data columns (total 6 columns):\n",
      " #   Column        Non-Null Count  Dtype  \n",
      "---  ------        --------------  -----  \n",
      " 0   date          18100 non-null  object \n",
      " 1   number        18100 non-null  int64  \n",
      " 2   Product_Name  18100 non-null  object \n",
      " 3   rating        17959 non-null  float64\n",
      " 4   n_reviews     18100 non-null  object \n",
      " 5   price         18100 non-null  object \n",
      "dtypes: float64(1), int64(1), object(4)\n",
      "memory usage: 848.6+ KB\n"
     ]
    }
   ],
   "source": [
    "df.info()"
   ]
  },
  {
   "cell_type": "code",
   "execution_count": 237,
   "id": "5bbec372-79df-4234-8225-d3f95d793f35",
   "metadata": {},
   "outputs": [
    {
     "data": {
      "text/html": [
       "<div>\n",
       "<style scoped>\n",
       "    .dataframe tbody tr th:only-of-type {\n",
       "        vertical-align: middle;\n",
       "    }\n",
       "\n",
       "    .dataframe tbody tr th {\n",
       "        vertical-align: top;\n",
       "    }\n",
       "\n",
       "    .dataframe thead th {\n",
       "        text-align: right;\n",
       "    }\n",
       "</style>\n",
       "<table border=\"1\" class=\"dataframe\">\n",
       "  <thead>\n",
       "    <tr style=\"text-align: right;\">\n",
       "      <th></th>\n",
       "      <th>number</th>\n",
       "      <th>rating</th>\n",
       "    </tr>\n",
       "  </thead>\n",
       "  <tbody>\n",
       "    <tr>\n",
       "      <th>count</th>\n",
       "      <td>18100.000000</td>\n",
       "      <td>17959.000000</td>\n",
       "    </tr>\n",
       "    <tr>\n",
       "      <th>mean</th>\n",
       "      <td>50.500000</td>\n",
       "      <td>4.624355</td>\n",
       "    </tr>\n",
       "    <tr>\n",
       "      <th>std</th>\n",
       "      <td>28.866867</td>\n",
       "      <td>0.185366</td>\n",
       "    </tr>\n",
       "    <tr>\n",
       "      <th>min</th>\n",
       "      <td>1.000000</td>\n",
       "      <td>1.000000</td>\n",
       "    </tr>\n",
       "    <tr>\n",
       "      <th>25%</th>\n",
       "      <td>25.750000</td>\n",
       "      <td>4.500000</td>\n",
       "    </tr>\n",
       "    <tr>\n",
       "      <th>50%</th>\n",
       "      <td>50.500000</td>\n",
       "      <td>4.700000</td>\n",
       "    </tr>\n",
       "    <tr>\n",
       "      <th>75%</th>\n",
       "      <td>75.250000</td>\n",
       "      <td>4.800000</td>\n",
       "    </tr>\n",
       "    <tr>\n",
       "      <th>max</th>\n",
       "      <td>100.000000</td>\n",
       "      <td>5.000000</td>\n",
       "    </tr>\n",
       "  </tbody>\n",
       "</table>\n",
       "</div>"
      ],
      "text/plain": [
       "             number        rating\n",
       "count  18100.000000  17959.000000\n",
       "mean      50.500000      4.624355\n",
       "std       28.866867      0.185366\n",
       "min        1.000000      1.000000\n",
       "25%       25.750000      4.500000\n",
       "50%       50.500000      4.700000\n",
       "75%       75.250000      4.800000\n",
       "max      100.000000      5.000000"
      ]
     },
     "execution_count": 237,
     "metadata": {},
     "output_type": "execute_result"
    }
   ],
   "source": [
    "df.describe()"
   ]
  },
  {
   "cell_type": "code",
   "execution_count": 238,
   "id": "e4868e30-3bdf-46b8-8309-f4eba7797a58",
   "metadata": {},
   "outputs": [
    {
     "data": {
      "text/plain": [
       "0    39.99\n",
       "1    24.99\n",
       "2    44.99\n",
       "3    44.99\n",
       "4    39.00\n",
       "Name: price, dtype: float64"
      ]
     },
     "execution_count": 238,
     "metadata": {},
     "output_type": "execute_result"
    }
   ],
   "source": [
    "\n",
    "df['price'] = pd.to_numeric(df['price'].replace('[\\$,]', '', regex=True), errors='coerce')\n",
    "\n",
    "df['price'].head()\n"
   ]
  },
  {
   "cell_type": "code",
   "execution_count": 239,
   "id": "39203b7a-5713-4512-bbb0-df891c862370",
   "metadata": {},
   "outputs": [
    {
     "name": "stdout",
     "output_type": "stream",
     "text": [
      "<class 'pandas.core.frame.DataFrame'>\n",
      "RangeIndex: 18100 entries, 0 to 18099\n",
      "Data columns (total 6 columns):\n",
      " #   Column        Non-Null Count  Dtype  \n",
      "---  ------        --------------  -----  \n",
      " 0   date          18100 non-null  object \n",
      " 1   number        18100 non-null  int64  \n",
      " 2   Product_Name  18100 non-null  object \n",
      " 3   rating        17959 non-null  float64\n",
      " 4   n_reviews     18100 non-null  object \n",
      " 5   price         17947 non-null  float64\n",
      "dtypes: float64(2), int64(1), object(3)\n",
      "memory usage: 848.6+ KB\n"
     ]
    }
   ],
   "source": [
    "df.info()"
   ]
  },
  {
   "cell_type": "code",
   "execution_count": 240,
   "id": "0a548fe7-d133-4feb-af9d-742b8d36acdf",
   "metadata": {},
   "outputs": [],
   "source": [
    "df['n_reviews'] = pd.to_numeric(df['n_reviews'].replace('No customer reviews yet', float('nan')).replace(',', '', regex=True), errors='coerce')"
   ]
  },
  {
   "cell_type": "code",
   "execution_count": 241,
   "id": "6aa80491-88c3-4574-b7ea-a48ec91e6de4",
   "metadata": {},
   "outputs": [
    {
     "data": {
      "text/html": [
       "<div>\n",
       "<style scoped>\n",
       "    .dataframe tbody tr th:only-of-type {\n",
       "        vertical-align: middle;\n",
       "    }\n",
       "\n",
       "    .dataframe tbody tr th {\n",
       "        vertical-align: top;\n",
       "    }\n",
       "\n",
       "    .dataframe thead th {\n",
       "        text-align: right;\n",
       "    }\n",
       "</style>\n",
       "<table border=\"1\" class=\"dataframe\">\n",
       "  <thead>\n",
       "    <tr style=\"text-align: right;\">\n",
       "      <th></th>\n",
       "      <th>number</th>\n",
       "      <th>rating</th>\n",
       "      <th>n_reviews</th>\n",
       "      <th>price</th>\n",
       "    </tr>\n",
       "  </thead>\n",
       "  <tbody>\n",
       "    <tr>\n",
       "      <th>count</th>\n",
       "      <td>18100.000000</td>\n",
       "      <td>17959.000000</td>\n",
       "      <td>1.795900e+04</td>\n",
       "      <td>17947.000000</td>\n",
       "    </tr>\n",
       "    <tr>\n",
       "      <th>mean</th>\n",
       "      <td>50.500000</td>\n",
       "      <td>4.624355</td>\n",
       "      <td>7.722091e+04</td>\n",
       "      <td>79.661105</td>\n",
       "    </tr>\n",
       "    <tr>\n",
       "      <th>std</th>\n",
       "      <td>28.866867</td>\n",
       "      <td>0.185366</td>\n",
       "      <td>1.649234e+05</td>\n",
       "      <td>101.162107</td>\n",
       "    </tr>\n",
       "    <tr>\n",
       "      <th>min</th>\n",
       "      <td>1.000000</td>\n",
       "      <td>1.000000</td>\n",
       "      <td>1.000000e+00</td>\n",
       "      <td>1.500000</td>\n",
       "    </tr>\n",
       "    <tr>\n",
       "      <th>25%</th>\n",
       "      <td>25.750000</td>\n",
       "      <td>4.500000</td>\n",
       "      <td>9.165500e+03</td>\n",
       "      <td>18.990000</td>\n",
       "    </tr>\n",
       "    <tr>\n",
       "      <th>50%</th>\n",
       "      <td>50.500000</td>\n",
       "      <td>4.700000</td>\n",
       "      <td>2.752700e+04</td>\n",
       "      <td>39.590000</td>\n",
       "    </tr>\n",
       "    <tr>\n",
       "      <th>75%</th>\n",
       "      <td>75.250000</td>\n",
       "      <td>4.800000</td>\n",
       "      <td>6.519000e+04</td>\n",
       "      <td>99.990000</td>\n",
       "    </tr>\n",
       "    <tr>\n",
       "      <th>max</th>\n",
       "      <td>100.000000</td>\n",
       "      <td>5.000000</td>\n",
       "      <td>1.154421e+06</td>\n",
       "      <td>1625.000000</td>\n",
       "    </tr>\n",
       "  </tbody>\n",
       "</table>\n",
       "</div>"
      ],
      "text/plain": [
       "             number        rating     n_reviews         price\n",
       "count  18100.000000  17959.000000  1.795900e+04  17947.000000\n",
       "mean      50.500000      4.624355  7.722091e+04     79.661105\n",
       "std       28.866867      0.185366  1.649234e+05    101.162107\n",
       "min        1.000000      1.000000  1.000000e+00      1.500000\n",
       "25%       25.750000      4.500000  9.165500e+03     18.990000\n",
       "50%       50.500000      4.700000  2.752700e+04     39.590000\n",
       "75%       75.250000      4.800000  6.519000e+04     99.990000\n",
       "max      100.000000      5.000000  1.154421e+06   1625.000000"
      ]
     },
     "execution_count": 241,
     "metadata": {},
     "output_type": "execute_result"
    }
   ],
   "source": [
    "df.describe()"
   ]
  },
  {
   "cell_type": "code",
   "execution_count": 242,
   "id": "b3f3dcfc-aac0-4f23-8510-96352cfee942",
   "metadata": {},
   "outputs": [
    {
     "name": "stdout",
     "output_type": "stream",
     "text": [
      "<class 'pandas.core.frame.DataFrame'>\n",
      "RangeIndex: 18100 entries, 0 to 18099\n",
      "Data columns (total 6 columns):\n",
      " #   Column        Non-Null Count  Dtype  \n",
      "---  ------        --------------  -----  \n",
      " 0   date          18100 non-null  object \n",
      " 1   number        18100 non-null  int64  \n",
      " 2   Product_Name  18100 non-null  object \n",
      " 3   rating        17959 non-null  float64\n",
      " 4   n_reviews     17959 non-null  float64\n",
      " 5   price         17947 non-null  float64\n",
      "dtypes: float64(3), int64(1), object(2)\n",
      "memory usage: 848.6+ KB\n"
     ]
    }
   ],
   "source": [
    "df.info()"
   ]
  },
  {
   "cell_type": "code",
   "execution_count": 243,
   "id": "8d222e2b-5a0f-458d-a8b0-540a394dde82",
   "metadata": {},
   "outputs": [
    {
     "data": {
      "text/plain": [
       "0    512797.0\n",
       "1    328652.0\n",
       "2    298030.0\n",
       "3    138241.0\n",
       "4     62702.0\n",
       "Name: n_reviews, dtype: float64"
      ]
     },
     "execution_count": 243,
     "metadata": {},
     "output_type": "execute_result"
    }
   ],
   "source": [
    "df[\"n_reviews\"].head()"
   ]
  },
  {
   "cell_type": "code",
   "execution_count": null,
   "id": "6c47f635-5929-49a4-8248-9167ddc495c3",
   "metadata": {},
   "outputs": [],
   "source": []
  }
 ],
 "metadata": {
  "kernelspec": {
   "display_name": "anaconda-panel-2023.05-py310",
   "language": "python",
   "name": "conda-env-anaconda-panel-2023.05-py310-py"
  },
  "language_info": {
   "codemirror_mode": {
    "name": "ipython",
    "version": 3
   },
   "file_extension": ".py",
   "mimetype": "text/x-python",
   "name": "python",
   "nbconvert_exporter": "python",
   "pygments_lexer": "ipython3",
   "version": "3.11.5"
  }
 },
 "nbformat": 4,
 "nbformat_minor": 5
}
